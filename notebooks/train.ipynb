{
 "cells": [
  {
   "cell_type": "code",
   "id": "3c7bd07396c30c66",
   "metadata": {
    "ExecuteTime": {
     "end_time": "2025-07-17T04:28:22.050288Z",
     "start_time": "2025-07-17T04:28:22.047552Z"
    }
   },
   "source": [
    "import pandas as pd\n"
   ],
   "outputs": [],
   "execution_count": 2
  },
  {
   "cell_type": "code",
   "id": "93230469ce2f1ea8",
   "metadata": {
    "ExecuteTime": {
     "end_time": "2025-07-17T04:28:23.009718Z",
     "start_time": "2025-07-17T04:28:22.358703Z"
    }
   },
   "source": [
    "df = pd.read_csv('../data/raw/gmail_emails.csv')\n",
    "df.head()"
   ],
   "outputs": [
    {
     "data": {
      "text/plain": [
       "                                              sender  \\\n",
       "0               Gmail Team <mail-noreply@google.com>   \n",
       "1               Gmail Team <mail-noreply@google.com>   \n",
       "2                  SKGEzhil <skgezhil2005@gmail.com>   \n",
       "3  International Collaboration IR <ic.ir@iith.ac.in>   \n",
       "4  Green Office IIT Hyderabad <office.green@iith....   \n",
       "\n",
       "                                           receivers  \\\n",
       "0  Karthik Gnana Ezhil S <ep23btech11016@iith.ac.in>   \n",
       "1  Karthik Gnana Ezhil S <ep23btech11016@iith.ac.in>   \n",
       "2  \"ep23btech11016@iith.ac.in\" <ep23btech11016@ii...   \n",
       "3                                students@iith.ac.in   \n",
       "4  Students <students@iith.ac.in>, \"Faculty, IIT ...   \n",
       "\n",
       "                                             message  \n",
       "0  Get the official Gmail app\\n\\nGet the official...  \n",
       "1  Tips for using your new inbox\\n\\nTips for usin...  \n",
       "2                                           \\n\\n\\r\\n  \n",
       "3  Call for applications for the Swiss Government...  \n",
       "4  Plantation drive on 05-08-2023\\n\\nDear All,\\r\\...  "
      ],
      "text/html": [
       "<div>\n",
       "<style scoped>\n",
       "    .dataframe tbody tr th:only-of-type {\n",
       "        vertical-align: middle;\n",
       "    }\n",
       "\n",
       "    .dataframe tbody tr th {\n",
       "        vertical-align: top;\n",
       "    }\n",
       "\n",
       "    .dataframe thead th {\n",
       "        text-align: right;\n",
       "    }\n",
       "</style>\n",
       "<table border=\"1\" class=\"dataframe\">\n",
       "  <thead>\n",
       "    <tr style=\"text-align: right;\">\n",
       "      <th></th>\n",
       "      <th>sender</th>\n",
       "      <th>receivers</th>\n",
       "      <th>message</th>\n",
       "    </tr>\n",
       "  </thead>\n",
       "  <tbody>\n",
       "    <tr>\n",
       "      <th>0</th>\n",
       "      <td>Gmail Team &lt;mail-noreply@google.com&gt;</td>\n",
       "      <td>Karthik Gnana Ezhil S &lt;ep23btech11016@iith.ac.in&gt;</td>\n",
       "      <td>Get the official Gmail app\\n\\nGet the official...</td>\n",
       "    </tr>\n",
       "    <tr>\n",
       "      <th>1</th>\n",
       "      <td>Gmail Team &lt;mail-noreply@google.com&gt;</td>\n",
       "      <td>Karthik Gnana Ezhil S &lt;ep23btech11016@iith.ac.in&gt;</td>\n",
       "      <td>Tips for using your new inbox\\n\\nTips for usin...</td>\n",
       "    </tr>\n",
       "    <tr>\n",
       "      <th>2</th>\n",
       "      <td>SKGEzhil &lt;skgezhil2005@gmail.com&gt;</td>\n",
       "      <td>\"ep23btech11016@iith.ac.in\" &lt;ep23btech11016@ii...</td>\n",
       "      <td>\\n\\n\\r\\n</td>\n",
       "    </tr>\n",
       "    <tr>\n",
       "      <th>3</th>\n",
       "      <td>International Collaboration IR &lt;ic.ir@iith.ac.in&gt;</td>\n",
       "      <td>students@iith.ac.in</td>\n",
       "      <td>Call for applications for the Swiss Government...</td>\n",
       "    </tr>\n",
       "    <tr>\n",
       "      <th>4</th>\n",
       "      <td>Green Office IIT Hyderabad &lt;office.green@iith....</td>\n",
       "      <td>Students &lt;students@iith.ac.in&gt;, \"Faculty, IIT ...</td>\n",
       "      <td>Plantation drive on 05-08-2023\\n\\nDear All,\\r\\...</td>\n",
       "    </tr>\n",
       "  </tbody>\n",
       "</table>\n",
       "</div>"
      ]
     },
     "execution_count": 3,
     "metadata": {},
     "output_type": "execute_result"
    }
   ],
   "execution_count": 3
  },
  {
   "cell_type": "code",
   "id": "8c292361e8bc26d9",
   "metadata": {
    "ExecuteTime": {
     "end_time": "2025-07-17T04:28:25.042829Z",
     "start_time": "2025-07-17T04:28:24.049887Z"
    }
   },
   "source": [
    "import torch\n",
    "embeddings = torch.load('../data/processed/email_embeddings.pt')"
   ],
   "outputs": [
    {
     "name": "stderr",
     "output_type": "stream",
     "text": [
      "/var/folders/0h/zxphsfbn487bj2pt3jw_p7nr0000gn/T/ipykernel_62298/3855300869.py:2: FutureWarning: You are using `torch.load` with `weights_only=False` (the current default value), which uses the default pickle module implicitly. It is possible to construct malicious pickle data which will execute arbitrary code during unpickling (See https://github.com/pytorch/pytorch/blob/main/SECURITY.md#untrusted-models for more details). In a future release, the default value for `weights_only` will be flipped to `True`. This limits the functions that could be executed during unpickling. Arbitrary objects will no longer be allowed to be loaded via this mode unless they are explicitly allowlisted by the user via `torch.serialization.add_safe_globals`. We recommend you start setting `weights_only=True` for any use case where you don't have full control of the loaded file. Please open an issue on GitHub for any issues related to this experimental feature.\n",
      "  embeddings = torch.load('../data/processed/email_embeddings.pt')\n"
     ]
    }
   ],
   "execution_count": 4
  },
  {
   "cell_type": "code",
   "id": "cd5423af45944487",
   "metadata": {
    "ExecuteTime": {
     "end_time": "2025-07-17T04:28:27.897913Z",
     "start_time": "2025-07-17T04:28:27.732359Z"
    }
   },
   "source": [
    "df['emb'] = embeddings.tolist()  # convert tensor to list for DataFrame"
   ],
   "outputs": [],
   "execution_count": 5
  },
  {
   "metadata": {},
   "cell_type": "markdown",
   "source": [
    "## Data Preparation\n",
    "Label emails based on their content using SBERT embeddings and cosine similarity to predefined prototypes."
   ],
   "id": "49dee8256443f7ca"
  },
  {
   "cell_type": "code",
   "id": "23e47ca1f95cbb9d",
   "metadata": {
    "ExecuteTime": {
     "end_time": "2025-07-17T04:28:42.873184Z",
     "start_time": "2025-07-17T04:28:30.198489Z"
    }
   },
   "source": [
    "import numpy as np\n",
    "\n",
    "from sentence_transformers import SentenceTransformer, util\n",
    "\n",
    "# 2) Load SBERT and encode all emails\n",
    "model = SentenceTransformer('all-MiniLM-L6-v2')\n",
    "\n",
    "raw_prototypes = {\n",
    "    # 'meeting':     [\"Team sync-up meeting\", \"Project planning meeting\"],\n",
    "    # 'announcement':[\"Official announcement\", \"Please note the announcement\"],\n",
    "    'internship':  [\"Summer internship opportunity\", \"Apply for internship\", \"Internship application deadline\", \"Internship program details\", \"Registration deadline for the internship\", \"Internship cell\", \"Placement cell\", \"Exchange program opportunity\", \"exchange program\"],\n",
    "    'club':        [\"Student club event\", \"Join our club\", \"join the core team\", \"Club orientations\", \"Sunshine meeting invites\", \"shuffle conducting events\", \"Vibes conducting events\", \"milan events\", \"Elan and nvision\", \"Diesta events\", \"Behind the lens events\", \"Call for coordinators\", \"EBSB events\"],\n",
    "    'talks':       [\"Guest speaker talk\", \"PhD viva voice announcements\", \"seminar on the topic\", \"Open colloquium\", \"Thesis on the topic\", \"Research proposal seminar\", \"Research seminar talks\", \"Invitation for seminar\", \"viva voice\", \"Upcoming talks\", \"Research talks\", \"Sessions on academics\", \"Upcoming events\", \"Event registration\", \"Invitation to industry lectures\", \"Invitation to event\"],\n",
    "    # 'maintenance':  [\"scheduled maintenance\", \"Maintenance window\", \"Internet connection down\", \"Shutdown notice\"],\n",
    "    'academics':   [\"Academic calendar\", \"Course registration\", \"Exam schedule\", \"Assignment deadlines\", \"Assignment submission\"],\n",
    "}\n",
    "prototypes = {\n",
    "    label: np.mean(\n",
    "        model.encode(texts, convert_to_tensor=False),  # now returns a list of lists\n",
    "        axis=0\n",
    "    )\n",
    "    for label, texts in raw_prototypes.items()\n",
    "}\n",
    "\n"
   ],
   "outputs": [
    {
     "name": "stderr",
     "output_type": "stream",
     "text": [
      "/opt/anaconda3/lib/python3.11/site-packages/sentence_transformers/cross_encoder/CrossEncoder.py:13: TqdmExperimentalWarning: Using `tqdm.autonotebook.tqdm` in notebook mode. Use `tqdm.tqdm` instead to force console mode (e.g. in jupyter console)\n",
      "  from tqdm.autonotebook import tqdm, trange\n"
     ]
    }
   ],
   "execution_count": 6
  },
  {
   "cell_type": "code",
   "id": "2ac9b35a14060e4e",
   "metadata": {
    "ExecuteTime": {
     "end_time": "2025-07-17T04:28:43.012688Z",
     "start_time": "2025-07-17T04:28:42.888622Z"
    }
   },
   "source": [
    "# 4) Compute cosine‐similarities of each email to each prototype\n",
    "sims = {\n",
    "    label: util.cos_sim(proto, embeddings)[0]\n",
    "    for label, proto in prototypes.items()\n",
    "}\n",
    "\n",
    "threshold = 0.4\n",
    "def pick_label(i):\n",
    "    # build a dict of {label: score}\n",
    "    scores = {lbl: sims[lbl][i].item() for lbl in sims}\n",
    "    best_label, best_score = max(scores.items(), key=lambda kv: kv[1])\n",
    "    return best_label if best_score > threshold else 'other'\n",
    "\n",
    "df['label'] = [pick_label(i) for i in range(len(df))]\n",
    "\n",
    "# print(df)\n",
    "df"
   ],
   "outputs": [
    {
     "data": {
      "text/plain": [
       "                                                  sender  \\\n",
       "0                   Gmail Team <mail-noreply@google.com>   \n",
       "1                   Gmail Team <mail-noreply@google.com>   \n",
       "2                      SKGEzhil <skgezhil2005@gmail.com>   \n",
       "3      International Collaboration IR <ic.ir@iith.ac.in>   \n",
       "4      Green Office IIT Hyderabad <office.green@iith....   \n",
       "...                                                  ...   \n",
       "18946          Shiv Govind Singh <sgsingh@ee.iith.ac.in>   \n",
       "18947             Japandesk IR <japandesk.ir@iith.ac.in>   \n",
       "18948          TechGig Webinar <expertspeak@techgig.com>   \n",
       "18949  \"'Cultural Secretary' via Students, IIT Hydera...   \n",
       "18950              Google <no-reply@accounts.google.com>   \n",
       "\n",
       "                                               receivers  \\\n",
       "0      Karthik Gnana Ezhil S <ep23btech11016@iith.ac.in>   \n",
       "1      Karthik Gnana Ezhil S <ep23btech11016@iith.ac.in>   \n",
       "2      \"ep23btech11016@iith.ac.in\" <ep23btech11016@ii...   \n",
       "3                                    students@iith.ac.in   \n",
       "4      Students <students@iith.ac.in>, \"Faculty, IIT ...   \n",
       "...                                                  ...   \n",
       "18946  \"EE, Seminar\" <seminar@ee.iith.ac.in>, \"Ph.D. ...   \n",
       "18947                     Students <students@iith.ac.in>   \n",
       "18948                          ep23btech11016@iith.ac.in   \n",
       "18949                     Students <students@iith.ac.in>   \n",
       "18950                          ep23btech11016@iith.ac.in   \n",
       "\n",
       "                                                 message  \\\n",
       "0      Get the official Gmail app\\n\\nGet the official...   \n",
       "1      Tips for using your new inbox\\n\\nTips for usin...   \n",
       "2                                               \\n\\n\\r\\n   \n",
       "3      Call for applications for the Swiss Government...   \n",
       "4      Plantation drive on 05-08-2023\\n\\nDear All,\\r\\...   \n",
       "...                                                  ...   \n",
       "18946  PhD Vivo-Voce (online) of Ghosh Tanmoya , 2.30...   \n",
       "18947  Re: BTech only : The University of Tokyo Sakur...   \n",
       "18948  How UiPath Autopilot is Redefining Developer P...   \n",
       "18949  Re: Join the Shuffle Club’s Online Dance Reel ...   \n",
       "18950  Security alert\\n\\n[image: Google]\\r\\nApp passw...   \n",
       "\n",
       "                                                     emb      label  \n",
       "0      [-0.09933263063430786, 0.001328121405094862, 0...      other  \n",
       "1      [-0.050356633961200714, 0.06010790541768074, -...      other  \n",
       "2      [-0.11883833259344101, 0.0482986718416214, -0....      other  \n",
       "3      [-0.09319693595170975, 0.01009377185255289, -0...      other  \n",
       "4      [-0.04429999738931656, -0.015538915991783142, ...      other  \n",
       "...                                                  ...        ...  \n",
       "18946  [-0.10579375177621841, -0.015991903841495514, ...      other  \n",
       "18947  [-0.11099039763212204, -0.015269726514816284, ...  academics  \n",
       "18948  [-0.018514640629291534, -0.06346655637025833, ...      other  \n",
       "18949  [-0.10851454734802246, -0.05394021049141884, 0...       club  \n",
       "18950  [-0.10358165204524994, -0.029010018333792686, ...      other  \n",
       "\n",
       "[18951 rows x 5 columns]"
      ],
      "text/html": [
       "<div>\n",
       "<style scoped>\n",
       "    .dataframe tbody tr th:only-of-type {\n",
       "        vertical-align: middle;\n",
       "    }\n",
       "\n",
       "    .dataframe tbody tr th {\n",
       "        vertical-align: top;\n",
       "    }\n",
       "\n",
       "    .dataframe thead th {\n",
       "        text-align: right;\n",
       "    }\n",
       "</style>\n",
       "<table border=\"1\" class=\"dataframe\">\n",
       "  <thead>\n",
       "    <tr style=\"text-align: right;\">\n",
       "      <th></th>\n",
       "      <th>sender</th>\n",
       "      <th>receivers</th>\n",
       "      <th>message</th>\n",
       "      <th>emb</th>\n",
       "      <th>label</th>\n",
       "    </tr>\n",
       "  </thead>\n",
       "  <tbody>\n",
       "    <tr>\n",
       "      <th>0</th>\n",
       "      <td>Gmail Team &lt;mail-noreply@google.com&gt;</td>\n",
       "      <td>Karthik Gnana Ezhil S &lt;ep23btech11016@iith.ac.in&gt;</td>\n",
       "      <td>Get the official Gmail app\\n\\nGet the official...</td>\n",
       "      <td>[-0.09933263063430786, 0.001328121405094862, 0...</td>\n",
       "      <td>other</td>\n",
       "    </tr>\n",
       "    <tr>\n",
       "      <th>1</th>\n",
       "      <td>Gmail Team &lt;mail-noreply@google.com&gt;</td>\n",
       "      <td>Karthik Gnana Ezhil S &lt;ep23btech11016@iith.ac.in&gt;</td>\n",
       "      <td>Tips for using your new inbox\\n\\nTips for usin...</td>\n",
       "      <td>[-0.050356633961200714, 0.06010790541768074, -...</td>\n",
       "      <td>other</td>\n",
       "    </tr>\n",
       "    <tr>\n",
       "      <th>2</th>\n",
       "      <td>SKGEzhil &lt;skgezhil2005@gmail.com&gt;</td>\n",
       "      <td>\"ep23btech11016@iith.ac.in\" &lt;ep23btech11016@ii...</td>\n",
       "      <td>\\n\\n\\r\\n</td>\n",
       "      <td>[-0.11883833259344101, 0.0482986718416214, -0....</td>\n",
       "      <td>other</td>\n",
       "    </tr>\n",
       "    <tr>\n",
       "      <th>3</th>\n",
       "      <td>International Collaboration IR &lt;ic.ir@iith.ac.in&gt;</td>\n",
       "      <td>students@iith.ac.in</td>\n",
       "      <td>Call for applications for the Swiss Government...</td>\n",
       "      <td>[-0.09319693595170975, 0.01009377185255289, -0...</td>\n",
       "      <td>other</td>\n",
       "    </tr>\n",
       "    <tr>\n",
       "      <th>4</th>\n",
       "      <td>Green Office IIT Hyderabad &lt;office.green@iith....</td>\n",
       "      <td>Students &lt;students@iith.ac.in&gt;, \"Faculty, IIT ...</td>\n",
       "      <td>Plantation drive on 05-08-2023\\n\\nDear All,\\r\\...</td>\n",
       "      <td>[-0.04429999738931656, -0.015538915991783142, ...</td>\n",
       "      <td>other</td>\n",
       "    </tr>\n",
       "    <tr>\n",
       "      <th>...</th>\n",
       "      <td>...</td>\n",
       "      <td>...</td>\n",
       "      <td>...</td>\n",
       "      <td>...</td>\n",
       "      <td>...</td>\n",
       "    </tr>\n",
       "    <tr>\n",
       "      <th>18946</th>\n",
       "      <td>Shiv Govind Singh &lt;sgsingh@ee.iith.ac.in&gt;</td>\n",
       "      <td>\"EE, Seminar\" &lt;seminar@ee.iith.ac.in&gt;, \"Ph.D. ...</td>\n",
       "      <td>PhD Vivo-Voce (online) of Ghosh Tanmoya , 2.30...</td>\n",
       "      <td>[-0.10579375177621841, -0.015991903841495514, ...</td>\n",
       "      <td>other</td>\n",
       "    </tr>\n",
       "    <tr>\n",
       "      <th>18947</th>\n",
       "      <td>Japandesk IR &lt;japandesk.ir@iith.ac.in&gt;</td>\n",
       "      <td>Students &lt;students@iith.ac.in&gt;</td>\n",
       "      <td>Re: BTech only : The University of Tokyo Sakur...</td>\n",
       "      <td>[-0.11099039763212204, -0.015269726514816284, ...</td>\n",
       "      <td>academics</td>\n",
       "    </tr>\n",
       "    <tr>\n",
       "      <th>18948</th>\n",
       "      <td>TechGig Webinar &lt;expertspeak@techgig.com&gt;</td>\n",
       "      <td>ep23btech11016@iith.ac.in</td>\n",
       "      <td>How UiPath Autopilot is Redefining Developer P...</td>\n",
       "      <td>[-0.018514640629291534, -0.06346655637025833, ...</td>\n",
       "      <td>other</td>\n",
       "    </tr>\n",
       "    <tr>\n",
       "      <th>18949</th>\n",
       "      <td>\"'Cultural Secretary' via Students, IIT Hydera...</td>\n",
       "      <td>Students &lt;students@iith.ac.in&gt;</td>\n",
       "      <td>Re: Join the Shuffle Club’s Online Dance Reel ...</td>\n",
       "      <td>[-0.10851454734802246, -0.05394021049141884, 0...</td>\n",
       "      <td>club</td>\n",
       "    </tr>\n",
       "    <tr>\n",
       "      <th>18950</th>\n",
       "      <td>Google &lt;no-reply@accounts.google.com&gt;</td>\n",
       "      <td>ep23btech11016@iith.ac.in</td>\n",
       "      <td>Security alert\\n\\n[image: Google]\\r\\nApp passw...</td>\n",
       "      <td>[-0.10358165204524994, -0.029010018333792686, ...</td>\n",
       "      <td>other</td>\n",
       "    </tr>\n",
       "  </tbody>\n",
       "</table>\n",
       "<p>18951 rows × 5 columns</p>\n",
       "</div>"
      ]
     },
     "execution_count": 7,
     "metadata": {},
     "output_type": "execute_result"
    }
   ],
   "execution_count": 7
  },
  {
   "cell_type": "code",
   "id": "3e6876509c950b65",
   "metadata": {
    "ExecuteTime": {
     "end_time": "2025-07-17T04:28:50.321615Z",
     "start_time": "2025-07-17T04:28:50.290689Z"
    }
   },
   "source": [
    "df.groupby('label').count()\n"
   ],
   "outputs": [
    {
     "data": {
      "text/plain": [
       "            sender  receivers  message    emb\n",
       "label                                        \n",
       "academics     1577       1551     1577   1577\n",
       "club          1179       1179     1179   1179\n",
       "internship     713        711      713    713\n",
       "other        14420      14289    14420  14420\n",
       "talks         1062       1061     1062   1062"
      ],
      "text/html": [
       "<div>\n",
       "<style scoped>\n",
       "    .dataframe tbody tr th:only-of-type {\n",
       "        vertical-align: middle;\n",
       "    }\n",
       "\n",
       "    .dataframe tbody tr th {\n",
       "        vertical-align: top;\n",
       "    }\n",
       "\n",
       "    .dataframe thead th {\n",
       "        text-align: right;\n",
       "    }\n",
       "</style>\n",
       "<table border=\"1\" class=\"dataframe\">\n",
       "  <thead>\n",
       "    <tr style=\"text-align: right;\">\n",
       "      <th></th>\n",
       "      <th>sender</th>\n",
       "      <th>receivers</th>\n",
       "      <th>message</th>\n",
       "      <th>emb</th>\n",
       "    </tr>\n",
       "    <tr>\n",
       "      <th>label</th>\n",
       "      <th></th>\n",
       "      <th></th>\n",
       "      <th></th>\n",
       "      <th></th>\n",
       "    </tr>\n",
       "  </thead>\n",
       "  <tbody>\n",
       "    <tr>\n",
       "      <th>academics</th>\n",
       "      <td>1577</td>\n",
       "      <td>1551</td>\n",
       "      <td>1577</td>\n",
       "      <td>1577</td>\n",
       "    </tr>\n",
       "    <tr>\n",
       "      <th>club</th>\n",
       "      <td>1179</td>\n",
       "      <td>1179</td>\n",
       "      <td>1179</td>\n",
       "      <td>1179</td>\n",
       "    </tr>\n",
       "    <tr>\n",
       "      <th>internship</th>\n",
       "      <td>713</td>\n",
       "      <td>711</td>\n",
       "      <td>713</td>\n",
       "      <td>713</td>\n",
       "    </tr>\n",
       "    <tr>\n",
       "      <th>other</th>\n",
       "      <td>14420</td>\n",
       "      <td>14289</td>\n",
       "      <td>14420</td>\n",
       "      <td>14420</td>\n",
       "    </tr>\n",
       "    <tr>\n",
       "      <th>talks</th>\n",
       "      <td>1062</td>\n",
       "      <td>1061</td>\n",
       "      <td>1062</td>\n",
       "      <td>1062</td>\n",
       "    </tr>\n",
       "  </tbody>\n",
       "</table>\n",
       "</div>"
      ]
     },
     "execution_count": 8,
     "metadata": {},
     "output_type": "execute_result"
    }
   ],
   "execution_count": 8
  },
  {
   "cell_type": "code",
   "id": "e60fa33fea4c1f8b",
   "metadata": {
    "ExecuteTime": {
     "end_time": "2025-07-17T04:28:51.088432Z",
     "start_time": "2025-07-17T04:28:51.074693Z"
    }
   },
   "source": [
    "# create new DataFrame with only the selected labels\n",
    "selected = ['academics', 'talks', 'internship', 'club', 'other']\n",
    "new_df = df[df['label'].isin(selected)].copy()\n",
    "new_df"
   ],
   "outputs": [
    {
     "data": {
      "text/plain": [
       "                                                  sender  \\\n",
       "0                   Gmail Team <mail-noreply@google.com>   \n",
       "1                   Gmail Team <mail-noreply@google.com>   \n",
       "2                      SKGEzhil <skgezhil2005@gmail.com>   \n",
       "3      International Collaboration IR <ic.ir@iith.ac.in>   \n",
       "4      Green Office IIT Hyderabad <office.green@iith....   \n",
       "...                                                  ...   \n",
       "18946          Shiv Govind Singh <sgsingh@ee.iith.ac.in>   \n",
       "18947             Japandesk IR <japandesk.ir@iith.ac.in>   \n",
       "18948          TechGig Webinar <expertspeak@techgig.com>   \n",
       "18949  \"'Cultural Secretary' via Students, IIT Hydera...   \n",
       "18950              Google <no-reply@accounts.google.com>   \n",
       "\n",
       "                                               receivers  \\\n",
       "0      Karthik Gnana Ezhil S <ep23btech11016@iith.ac.in>   \n",
       "1      Karthik Gnana Ezhil S <ep23btech11016@iith.ac.in>   \n",
       "2      \"ep23btech11016@iith.ac.in\" <ep23btech11016@ii...   \n",
       "3                                    students@iith.ac.in   \n",
       "4      Students <students@iith.ac.in>, \"Faculty, IIT ...   \n",
       "...                                                  ...   \n",
       "18946  \"EE, Seminar\" <seminar@ee.iith.ac.in>, \"Ph.D. ...   \n",
       "18947                     Students <students@iith.ac.in>   \n",
       "18948                          ep23btech11016@iith.ac.in   \n",
       "18949                     Students <students@iith.ac.in>   \n",
       "18950                          ep23btech11016@iith.ac.in   \n",
       "\n",
       "                                                 message  \\\n",
       "0      Get the official Gmail app\\n\\nGet the official...   \n",
       "1      Tips for using your new inbox\\n\\nTips for usin...   \n",
       "2                                               \\n\\n\\r\\n   \n",
       "3      Call for applications for the Swiss Government...   \n",
       "4      Plantation drive on 05-08-2023\\n\\nDear All,\\r\\...   \n",
       "...                                                  ...   \n",
       "18946  PhD Vivo-Voce (online) of Ghosh Tanmoya , 2.30...   \n",
       "18947  Re: BTech only : The University of Tokyo Sakur...   \n",
       "18948  How UiPath Autopilot is Redefining Developer P...   \n",
       "18949  Re: Join the Shuffle Club’s Online Dance Reel ...   \n",
       "18950  Security alert\\n\\n[image: Google]\\r\\nApp passw...   \n",
       "\n",
       "                                                     emb      label  \n",
       "0      [-0.09933263063430786, 0.001328121405094862, 0...      other  \n",
       "1      [-0.050356633961200714, 0.06010790541768074, -...      other  \n",
       "2      [-0.11883833259344101, 0.0482986718416214, -0....      other  \n",
       "3      [-0.09319693595170975, 0.01009377185255289, -0...      other  \n",
       "4      [-0.04429999738931656, -0.015538915991783142, ...      other  \n",
       "...                                                  ...        ...  \n",
       "18946  [-0.10579375177621841, -0.015991903841495514, ...      other  \n",
       "18947  [-0.11099039763212204, -0.015269726514816284, ...  academics  \n",
       "18948  [-0.018514640629291534, -0.06346655637025833, ...      other  \n",
       "18949  [-0.10851454734802246, -0.05394021049141884, 0...       club  \n",
       "18950  [-0.10358165204524994, -0.029010018333792686, ...      other  \n",
       "\n",
       "[18951 rows x 5 columns]"
      ],
      "text/html": [
       "<div>\n",
       "<style scoped>\n",
       "    .dataframe tbody tr th:only-of-type {\n",
       "        vertical-align: middle;\n",
       "    }\n",
       "\n",
       "    .dataframe tbody tr th {\n",
       "        vertical-align: top;\n",
       "    }\n",
       "\n",
       "    .dataframe thead th {\n",
       "        text-align: right;\n",
       "    }\n",
       "</style>\n",
       "<table border=\"1\" class=\"dataframe\">\n",
       "  <thead>\n",
       "    <tr style=\"text-align: right;\">\n",
       "      <th></th>\n",
       "      <th>sender</th>\n",
       "      <th>receivers</th>\n",
       "      <th>message</th>\n",
       "      <th>emb</th>\n",
       "      <th>label</th>\n",
       "    </tr>\n",
       "  </thead>\n",
       "  <tbody>\n",
       "    <tr>\n",
       "      <th>0</th>\n",
       "      <td>Gmail Team &lt;mail-noreply@google.com&gt;</td>\n",
       "      <td>Karthik Gnana Ezhil S &lt;ep23btech11016@iith.ac.in&gt;</td>\n",
       "      <td>Get the official Gmail app\\n\\nGet the official...</td>\n",
       "      <td>[-0.09933263063430786, 0.001328121405094862, 0...</td>\n",
       "      <td>other</td>\n",
       "    </tr>\n",
       "    <tr>\n",
       "      <th>1</th>\n",
       "      <td>Gmail Team &lt;mail-noreply@google.com&gt;</td>\n",
       "      <td>Karthik Gnana Ezhil S &lt;ep23btech11016@iith.ac.in&gt;</td>\n",
       "      <td>Tips for using your new inbox\\n\\nTips for usin...</td>\n",
       "      <td>[-0.050356633961200714, 0.06010790541768074, -...</td>\n",
       "      <td>other</td>\n",
       "    </tr>\n",
       "    <tr>\n",
       "      <th>2</th>\n",
       "      <td>SKGEzhil &lt;skgezhil2005@gmail.com&gt;</td>\n",
       "      <td>\"ep23btech11016@iith.ac.in\" &lt;ep23btech11016@ii...</td>\n",
       "      <td>\\n\\n\\r\\n</td>\n",
       "      <td>[-0.11883833259344101, 0.0482986718416214, -0....</td>\n",
       "      <td>other</td>\n",
       "    </tr>\n",
       "    <tr>\n",
       "      <th>3</th>\n",
       "      <td>International Collaboration IR &lt;ic.ir@iith.ac.in&gt;</td>\n",
       "      <td>students@iith.ac.in</td>\n",
       "      <td>Call for applications for the Swiss Government...</td>\n",
       "      <td>[-0.09319693595170975, 0.01009377185255289, -0...</td>\n",
       "      <td>other</td>\n",
       "    </tr>\n",
       "    <tr>\n",
       "      <th>4</th>\n",
       "      <td>Green Office IIT Hyderabad &lt;office.green@iith....</td>\n",
       "      <td>Students &lt;students@iith.ac.in&gt;, \"Faculty, IIT ...</td>\n",
       "      <td>Plantation drive on 05-08-2023\\n\\nDear All,\\r\\...</td>\n",
       "      <td>[-0.04429999738931656, -0.015538915991783142, ...</td>\n",
       "      <td>other</td>\n",
       "    </tr>\n",
       "    <tr>\n",
       "      <th>...</th>\n",
       "      <td>...</td>\n",
       "      <td>...</td>\n",
       "      <td>...</td>\n",
       "      <td>...</td>\n",
       "      <td>...</td>\n",
       "    </tr>\n",
       "    <tr>\n",
       "      <th>18946</th>\n",
       "      <td>Shiv Govind Singh &lt;sgsingh@ee.iith.ac.in&gt;</td>\n",
       "      <td>\"EE, Seminar\" &lt;seminar@ee.iith.ac.in&gt;, \"Ph.D. ...</td>\n",
       "      <td>PhD Vivo-Voce (online) of Ghosh Tanmoya , 2.30...</td>\n",
       "      <td>[-0.10579375177621841, -0.015991903841495514, ...</td>\n",
       "      <td>other</td>\n",
       "    </tr>\n",
       "    <tr>\n",
       "      <th>18947</th>\n",
       "      <td>Japandesk IR &lt;japandesk.ir@iith.ac.in&gt;</td>\n",
       "      <td>Students &lt;students@iith.ac.in&gt;</td>\n",
       "      <td>Re: BTech only : The University of Tokyo Sakur...</td>\n",
       "      <td>[-0.11099039763212204, -0.015269726514816284, ...</td>\n",
       "      <td>academics</td>\n",
       "    </tr>\n",
       "    <tr>\n",
       "      <th>18948</th>\n",
       "      <td>TechGig Webinar &lt;expertspeak@techgig.com&gt;</td>\n",
       "      <td>ep23btech11016@iith.ac.in</td>\n",
       "      <td>How UiPath Autopilot is Redefining Developer P...</td>\n",
       "      <td>[-0.018514640629291534, -0.06346655637025833, ...</td>\n",
       "      <td>other</td>\n",
       "    </tr>\n",
       "    <tr>\n",
       "      <th>18949</th>\n",
       "      <td>\"'Cultural Secretary' via Students, IIT Hydera...</td>\n",
       "      <td>Students &lt;students@iith.ac.in&gt;</td>\n",
       "      <td>Re: Join the Shuffle Club’s Online Dance Reel ...</td>\n",
       "      <td>[-0.10851454734802246, -0.05394021049141884, 0...</td>\n",
       "      <td>club</td>\n",
       "    </tr>\n",
       "    <tr>\n",
       "      <th>18950</th>\n",
       "      <td>Google &lt;no-reply@accounts.google.com&gt;</td>\n",
       "      <td>ep23btech11016@iith.ac.in</td>\n",
       "      <td>Security alert\\n\\n[image: Google]\\r\\nApp passw...</td>\n",
       "      <td>[-0.10358165204524994, -0.029010018333792686, ...</td>\n",
       "      <td>other</td>\n",
       "    </tr>\n",
       "  </tbody>\n",
       "</table>\n",
       "<p>18951 rows × 5 columns</p>\n",
       "</div>"
      ]
     },
     "execution_count": 9,
     "metadata": {},
     "output_type": "execute_result"
    }
   ],
   "execution_count": 9
  },
  {
   "cell_type": "code",
   "id": "5bafcdeab9bbcb7b",
   "metadata": {
    "ExecuteTime": {
     "end_time": "2025-07-17T04:28:51.863961Z",
     "start_time": "2025-07-17T04:28:51.855881Z"
    }
   },
   "source": [
    "new_df.groupby('label').count()\n"
   ],
   "outputs": [
    {
     "data": {
      "text/plain": [
       "            sender  receivers  message    emb\n",
       "label                                        \n",
       "academics     1577       1551     1577   1577\n",
       "club          1179       1179     1179   1179\n",
       "internship     713        711      713    713\n",
       "other        14420      14289    14420  14420\n",
       "talks         1062       1061     1062   1062"
      ],
      "text/html": [
       "<div>\n",
       "<style scoped>\n",
       "    .dataframe tbody tr th:only-of-type {\n",
       "        vertical-align: middle;\n",
       "    }\n",
       "\n",
       "    .dataframe tbody tr th {\n",
       "        vertical-align: top;\n",
       "    }\n",
       "\n",
       "    .dataframe thead th {\n",
       "        text-align: right;\n",
       "    }\n",
       "</style>\n",
       "<table border=\"1\" class=\"dataframe\">\n",
       "  <thead>\n",
       "    <tr style=\"text-align: right;\">\n",
       "      <th></th>\n",
       "      <th>sender</th>\n",
       "      <th>receivers</th>\n",
       "      <th>message</th>\n",
       "      <th>emb</th>\n",
       "    </tr>\n",
       "    <tr>\n",
       "      <th>label</th>\n",
       "      <th></th>\n",
       "      <th></th>\n",
       "      <th></th>\n",
       "      <th></th>\n",
       "    </tr>\n",
       "  </thead>\n",
       "  <tbody>\n",
       "    <tr>\n",
       "      <th>academics</th>\n",
       "      <td>1577</td>\n",
       "      <td>1551</td>\n",
       "      <td>1577</td>\n",
       "      <td>1577</td>\n",
       "    </tr>\n",
       "    <tr>\n",
       "      <th>club</th>\n",
       "      <td>1179</td>\n",
       "      <td>1179</td>\n",
       "      <td>1179</td>\n",
       "      <td>1179</td>\n",
       "    </tr>\n",
       "    <tr>\n",
       "      <th>internship</th>\n",
       "      <td>713</td>\n",
       "      <td>711</td>\n",
       "      <td>713</td>\n",
       "      <td>713</td>\n",
       "    </tr>\n",
       "    <tr>\n",
       "      <th>other</th>\n",
       "      <td>14420</td>\n",
       "      <td>14289</td>\n",
       "      <td>14420</td>\n",
       "      <td>14420</td>\n",
       "    </tr>\n",
       "    <tr>\n",
       "      <th>talks</th>\n",
       "      <td>1062</td>\n",
       "      <td>1061</td>\n",
       "      <td>1062</td>\n",
       "      <td>1062</td>\n",
       "    </tr>\n",
       "  </tbody>\n",
       "</table>\n",
       "</div>"
      ]
     },
     "execution_count": 10,
     "metadata": {},
     "output_type": "execute_result"
    }
   ],
   "execution_count": 10
  },
  {
   "metadata": {},
   "cell_type": "markdown",
   "source": "## Downsample the dataset to balance the classes.",
   "id": "3f7e2c77bd10bfd"
  },
  {
   "cell_type": "code",
   "id": "24cac0b3e6c5eb67",
   "metadata": {
    "ExecuteTime": {
     "end_time": "2025-07-17T04:42:22.965231Z",
     "start_time": "2025-07-17T04:42:22.951149Z"
    }
   },
   "source": [
    "# pick 1000 academics\n",
    "acad_sample  = new_df[new_df['label']=='academics'] \\\n",
    "                   .sample(n=1000, random_state=42)\n",
    "\n",
    "# pick 1000 others\n",
    "other_sample = new_df[new_df['label']=='other'] \\\n",
    "                   .sample(n=1000, random_state=42)\n",
    "\n",
    "# keep *all* the remaining labels (club, internship, talks, etc.)\n",
    "rest         = new_df[~new_df['label'].isin(['academics','other'])]\n",
    "\n",
    "# combine & reshuffle\n",
    "downsamp_df = pd.concat([acad_sample, other_sample, rest],\n",
    "                        ignore_index=True) \\\n",
    "              .sample(frac=1, random_state=42) \\\n",
    "              .reset_index(drop=True)\n",
    "\n",
    "downsamp_df.groupby('label').size()"
   ],
   "outputs": [
    {
     "data": {
      "text/plain": [
       "label\n",
       "academics     1000\n",
       "club          1179\n",
       "internship     713\n",
       "other         1000\n",
       "talks         1062\n",
       "dtype: int64"
      ]
     },
     "execution_count": 14,
     "metadata": {},
     "output_type": "execute_result"
    }
   ],
   "execution_count": 14
  },
  {
   "metadata": {
    "ExecuteTime": {
     "end_time": "2025-07-16T13:08:18.651429Z",
     "start_time": "2025-07-16T13:08:18.542365Z"
    }
   },
   "cell_type": "code",
   "source": [
    "# save to a pickle\n",
    "downsamp_df.to_pickle('../data/processed/downsamp_df_2.pkl')"
   ],
   "id": "6ebe86868e7ba829",
   "outputs": [],
   "execution_count": 14
  },
  {
   "metadata": {},
   "cell_type": "markdown",
   "source": [
    "## Training a simple neural network model\n",
    "#### Creating Training and Test Sets, Encoding Labels"
   ],
   "id": "318f0f46d3f92b13"
  },
  {
   "metadata": {
    "ExecuteTime": {
     "end_time": "2025-07-17T04:26:17.058148Z",
     "start_time": "2025-07-17T04:26:13.119845Z"
    }
   },
   "cell_type": "code",
   "source": "!pip install --upgrade typing_extensions",
   "id": "116ff9ee4c62a5d",
   "outputs": [
    {
     "name": "stderr",
     "output_type": "stream",
     "text": [
      "huggingface/tokenizers: The current process just got forked, after parallelism has already been used. Disabling parallelism to avoid deadlocks...\n",
      "To disable this warning, you can either:\n",
      "\t- Avoid using `tokenizers` before the fork if possible\n",
      "\t- Explicitly set the environment variable TOKENIZERS_PARALLELISM=(true | false)\n"
     ]
    },
    {
     "name": "stdout",
     "output_type": "stream",
     "text": [
      "Requirement already satisfied: typing_extensions in /opt/anaconda3/lib/python3.11/site-packages (4.14.1)\r\n"
     ]
    }
   ],
   "execution_count": 15
  },
  {
   "cell_type": "code",
   "id": "f8a6818b909ecaa2",
   "metadata": {
    "ExecuteTime": {
     "end_time": "2025-07-17T04:42:26.253558Z",
     "start_time": "2025-07-17T04:42:26.173445Z"
    }
   },
   "source": [
    "import numpy as np\n",
    "import pandas as pd\n",
    "from sklearn.model_selection import train_test_split\n",
    "from sklearn.preprocessing import LabelEncoder\n",
    "from sklearn.utils.class_weight import compute_class_weight\n",
    "import tensorflow as tf\n",
    "from tensorflow.keras import layers, Sequential\n",
    "\n",
    "# 1) Prepare X (embeddings) and y (labels)\n",
    "# ------------------------------------------------\n",
    "# assume you have your embeddings as a column of lists/arrays\n",
    "# e.g. df['emb'] was set earlier via model.encode(...).tolist()\n",
    "X = np.vstack(downsamp_df['emb'].values)        # shape (N, D)\n",
    "y_raw = downsamp_df['label'].values             # shape (N,)\n",
    "\n",
    "# 2) Encode labels as integers\n",
    "# ------------------------------------------------\n",
    "le = LabelEncoder()\n",
    "y = le.fit_transform(y_raw)            # now y is 0,1,2,3,4 for your 5 classes\n",
    "num_classes = len(le.classes_)\n",
    "\n",
    "# 3) Train/test split (stratify to preserve class ratios)\n",
    "# ------------------------------------------------\n",
    "X_train, X_test, y_train, y_test = train_test_split(\n",
    "    X, y,\n",
    "    test_size=0.2,\n",
    "    random_state=42,\n",
    "    stratify=y\n",
    ")\n"
   ],
   "outputs": [],
   "execution_count": 15
  },
  {
   "cell_type": "code",
   "id": "178015bb80688a41",
   "metadata": {
    "ExecuteTime": {
     "end_time": "2025-07-17T04:42:27.493871Z",
     "start_time": "2025-07-17T04:42:27.490779Z"
    }
   },
   "source": [
    "label_to_code = dict(zip(le.classes_, le.transform(le.classes_)))\n",
    "print(\"Label to code mapping:\", label_to_code)"
   ],
   "outputs": [
    {
     "name": "stdout",
     "output_type": "stream",
     "text": [
      "Label to code mapping: {'academics': 0, 'club': 1, 'internship': 2, 'other': 3, 'talks': 4}\n"
     ]
    }
   ],
   "execution_count": 16
  },
  {
   "cell_type": "code",
   "id": "ed008c8c8d5d7e73",
   "metadata": {
    "ExecuteTime": {
     "end_time": "2025-07-16T13:08:30.312300Z",
     "start_time": "2025-07-16T13:08:30.309836Z"
    }
   },
   "source": [
    "# 4) Compute class weights\n",
    "# ------------------------------------------------\n",
    "# this gives you an array of length num_classes\n",
    "# weights = compute_class_weight(\n",
    "#     class_weight='balanced',\n",
    "#     classes=np.arange(num_classes),\n",
    "#     y=y_train\n",
    "# )\n",
    "# class_weight = {i: w for i, w in enumerate(weights)}"
   ],
   "outputs": [],
   "execution_count": 17
  },
  {
   "metadata": {
    "ExecuteTime": {
     "end_time": "2025-07-17T04:44:12.070688Z",
     "start_time": "2025-07-17T04:44:00.090430Z"
    }
   },
   "cell_type": "code",
   "source": [
    "import mlflow\n",
    "import mlflow.keras\n",
    "from tensorflow.keras import layers, Sequential\n",
    "\n",
    "mlflow.set_experiment(\"email-classifier-experiment\")\n",
    "\n",
    "with mlflow.start_run():\n",
    "    # Log params\n",
    "    mlflow.log_param(\"optimizer\", \"adam\")\n",
    "    mlflow.log_param(\"loss\", \"sparse_categorical_crossentropy\")\n",
    "    mlflow.log_param(\"dropout_rate\", 0.4)\n",
    "    mlflow.log_param(\"epochs\", 6)\n",
    "    mlflow.log_param(\"batch_size\", 32)\n",
    "    mlflow.log_param(\"num_classes\", num_classes)\n",
    "    mlflow.log_param(\"input_dim\", X.shape[1])\n",
    "\n",
    "    # Build & train\n",
    "    model = Sequential([\n",
    "        layers.Input(shape=(X.shape[1],)),\n",
    "        layers.Dense(256, activation=\"relu\"),\n",
    "        layers.Dropout(0.4),\n",
    "        layers.Dense(128, activation=\"relu\"),\n",
    "        layers.Dropout(0.4),\n",
    "        layers.Dense(num_classes, activation=\"softmax\"),\n",
    "    ])\n",
    "    model.compile(\n",
    "        optimizer=\"adam\",\n",
    "        loss=\"sparse_categorical_crossentropy\",\n",
    "        metrics=[\"accuracy\"],\n",
    "    )\n",
    "    history = model.fit(\n",
    "        X_train, y_train,\n",
    "        validation_data=(X_test, y_test),\n",
    "        epochs=6,\n",
    "        batch_size=32,\n",
    "        verbose=1,\n",
    "    )\n",
    "\n",
    "    # Log epoch‐wise metrics\n",
    "    for epoch in range(len(history.history[\"loss\"])):\n",
    "        mlflow.log_metric(\"train_loss\",     history.history[\"loss\"][epoch],     step=epoch+1)\n",
    "        mlflow.log_metric(\"train_accuracy\", history.history[\"accuracy\"][epoch], step=epoch+1)\n",
    "        mlflow.log_metric(\"val_loss\",       history.history[\"val_loss\"][epoch],  step=epoch+1)\n",
    "        mlflow.log_metric(\"val_accuracy\",   history.history[\"val_accuracy\"][epoch],step=epoch+1)\n",
    "\n",
    "    # Corrected log_model call: model is first arg\n",
    "    mlflow.keras.log_model(\n",
    "        model,                                   # ← positional, not keras_model=\n",
    "        artifact_path=\"email_classifier_model\",\n",
    "        registered_model_name=\"Email_Classifier\"  # optional\n",
    "    )\n",
    "\n",
    "    print(\"Run completed. Run ID:\", mlflow.active_run().info.run_id)\n"
   ],
   "id": "3c222e0af6337f9a",
   "outputs": [
    {
     "name": "stdout",
     "output_type": "stream",
     "text": [
      "Epoch 1/6\n",
      "\u001B[1m124/124\u001B[0m \u001B[32m━━━━━━━━━━━━━━━━━━━━\u001B[0m\u001B[37m\u001B[0m \u001B[1m1s\u001B[0m 3ms/step - accuracy: 0.5462 - loss: 1.2577 - val_accuracy: 0.8607 - val_loss: 0.3965\n",
      "Epoch 2/6\n",
      "\u001B[1m124/124\u001B[0m \u001B[32m━━━━━━━━━━━━━━━━━━━━\u001B[0m\u001B[37m\u001B[0m \u001B[1m0s\u001B[0m 2ms/step - accuracy: 0.8596 - loss: 0.4067 - val_accuracy: 0.9011 - val_loss: 0.2605\n",
      "Epoch 3/6\n",
      "\u001B[1m124/124\u001B[0m \u001B[32m━━━━━━━━━━━━━━━━━━━━\u001B[0m\u001B[37m\u001B[0m \u001B[1m0s\u001B[0m 2ms/step - accuracy: 0.9151 - loss: 0.2471 - val_accuracy: 0.9273 - val_loss: 0.2113\n",
      "Epoch 4/6\n",
      "\u001B[1m124/124\u001B[0m \u001B[32m━━━━━━━━━━━━━━━━━━━━\u001B[0m\u001B[37m\u001B[0m \u001B[1m0s\u001B[0m 2ms/step - accuracy: 0.9303 - loss: 0.1960 - val_accuracy: 0.9304 - val_loss: 0.1842\n",
      "Epoch 5/6\n",
      "\u001B[1m124/124\u001B[0m \u001B[32m━━━━━━━━━━━━━━━━━━━━\u001B[0m\u001B[37m\u001B[0m \u001B[1m0s\u001B[0m 2ms/step - accuracy: 0.9321 - loss: 0.1830 - val_accuracy: 0.9354 - val_loss: 0.1735\n",
      "Epoch 6/6\n",
      "\u001B[1m124/124\u001B[0m \u001B[32m━━━━━━━━━━━━━━━━━━━━\u001B[0m\u001B[37m\u001B[0m \u001B[1m0s\u001B[0m 2ms/step - accuracy: 0.9609 - loss: 0.1236 - val_accuracy: 0.9273 - val_loss: 0.2050\n"
     ]
    },
    {
     "name": "stderr",
     "output_type": "stream",
     "text": [
      "2025/07/17 10:14:02 WARNING mlflow.models.model: `artifact_path` is deprecated. Please use `name` instead.\n",
      "2025/07/17 10:14:02 WARNING mlflow.keras.save: You are saving a Keras model without specifying model signature.\n",
      "huggingface/tokenizers: The current process just got forked, after parallelism has already been used. Disabling parallelism to avoid deadlocks...\n",
      "To disable this warning, you can either:\n",
      "\t- Avoid using `tokenizers` before the fork if possible\n",
      "\t- Explicitly set the environment variable TOKENIZERS_PARALLELISM=(true | false)\n",
      "\u001B[31m2025/07/17 10:14:12 WARNING mlflow.models.model: Model logged without a signature and input example. Please set `input_example` parameter when logging the model to auto infer the model signature.\u001B[0m\n"
     ]
    },
    {
     "name": "stdout",
     "output_type": "stream",
     "text": [
      "Run completed. Run ID: 8347eebdb0cf4d54b33f6aced83bcf28\n"
     ]
    },
    {
     "name": "stderr",
     "output_type": "stream",
     "text": [
      "Successfully registered model 'Email_Classifier'.\n",
      "Created version '1' of model 'Email_Classifier'.\n"
     ]
    }
   ],
   "execution_count": 18
  },
  {
   "cell_type": "code",
   "id": "672ad477c4e40ec5",
   "metadata": {
    "ExecuteTime": {
     "end_time": "2025-07-16T13:08:33.458381Z",
     "start_time": "2025-07-16T13:08:33.409652Z"
    }
   },
   "source": [
    "# 5) Build a simple Sequential model\n",
    "# ------------------------------------------------\n",
    "model = Sequential([\n",
    "    layers.Input(shape=(X.shape[1],)),      # SBERT embedding size\n",
    "    layers.Dense(256, activation='relu'),\n",
    "    layers.Dropout(0.4),\n",
    "    layers.Dense(128, activation='relu'),\n",
    "    layers.Dropout(0.4),\n",
    "    layers.Dense(num_classes, activation='softmax')\n",
    "])\n",
    "\n",
    "model.compile(\n",
    "    optimizer='adam',\n",
    "    loss='sparse_categorical_crossentropy',\n",
    "    metrics=[\n",
    "        'accuracy',\n",
    "    ]\n",
    ")\n"
   ],
   "outputs": [],
   "execution_count": 18
  },
  {
   "cell_type": "code",
   "id": "c91f4e63632a67fd",
   "metadata": {
    "ExecuteTime": {
     "end_time": "2025-07-16T13:08:56.083613Z",
     "start_time": "2025-07-16T13:08:54.281417Z"
    }
   },
   "source": [
    "\n",
    "history = model.fit(\n",
    "    X_train, y_train,\n",
    "    validation_data=(X_test, y_test),\n",
    "    epochs=6,\n",
    "    batch_size=32,\n",
    "    verbose=1\n",
    "    # class_weight=class_weight\n",
    ")"
   ],
   "outputs": [
    {
     "name": "stdout",
     "output_type": "stream",
     "text": [
      "Epoch 1/6\n",
      "\u001B[1m124/124\u001B[0m \u001B[32m━━━━━━━━━━━━━━━━━━━━\u001B[0m\u001B[37m\u001B[0m \u001B[1m0s\u001B[0m 2ms/step - accuracy: 0.9234 - loss: 0.2090 - val_accuracy: 0.9425 - val_loss: 0.1777\n",
      "Epoch 2/6\n",
      "\u001B[1m124/124\u001B[0m \u001B[32m━━━━━━━━━━━━━━━━━━━━\u001B[0m\u001B[37m\u001B[0m \u001B[1m0s\u001B[0m 2ms/step - accuracy: 0.9442 - loss: 0.1604 - val_accuracy: 0.9395 - val_loss: 0.1841\n",
      "Epoch 3/6\n",
      "\u001B[1m124/124\u001B[0m \u001B[32m━━━━━━━━━━━━━━━━━━━━\u001B[0m\u001B[37m\u001B[0m \u001B[1m0s\u001B[0m 2ms/step - accuracy: 0.9536 - loss: 0.1366 - val_accuracy: 0.9334 - val_loss: 0.1742\n",
      "Epoch 4/6\n",
      "\u001B[1m124/124\u001B[0m \u001B[32m━━━━━━━━━━━━━━━━━━━━\u001B[0m\u001B[37m\u001B[0m \u001B[1m0s\u001B[0m 2ms/step - accuracy: 0.9592 - loss: 0.1212 - val_accuracy: 0.9395 - val_loss: 0.1724\n",
      "Epoch 5/6\n",
      "\u001B[1m124/124\u001B[0m \u001B[32m━━━━━━━━━━━━━━━━━━━━\u001B[0m\u001B[37m\u001B[0m \u001B[1m0s\u001B[0m 2ms/step - accuracy: 0.9668 - loss: 0.1028 - val_accuracy: 0.9384 - val_loss: 0.1733\n",
      "Epoch 6/6\n",
      "\u001B[1m124/124\u001B[0m \u001B[32m━━━━━━━━━━━━━━━━━━━━\u001B[0m\u001B[37m\u001B[0m \u001B[1m0s\u001B[0m 2ms/step - accuracy: 0.9711 - loss: 0.0862 - val_accuracy: 0.9324 - val_loss: 0.1771\n"
     ]
    }
   ],
   "execution_count": 20
  },
  {
   "cell_type": "code",
   "id": "c3c0ac90826be900",
   "metadata": {
    "ExecuteTime": {
     "end_time": "2025-07-16T13:08:58.401739Z",
     "start_time": "2025-07-16T13:08:58.326817Z"
    }
   },
   "source": [
    "model.evaluate(X_test, y_test)"
   ],
   "outputs": [
    {
     "name": "stdout",
     "output_type": "stream",
     "text": [
      "\u001B[1m31/31\u001B[0m \u001B[32m━━━━━━━━━━━━━━━━━━━━\u001B[0m\u001B[37m\u001B[0m \u001B[1m0s\u001B[0m 1ms/step - accuracy: 0.9259 - loss: 0.1838 \n"
     ]
    },
    {
     "data": {
      "text/plain": [
       "[0.17707638442516327, 0.9323915243148804]"
      ]
     },
     "execution_count": 21,
     "metadata": {},
     "output_type": "execute_result"
    }
   ],
   "execution_count": 21
  },
  {
   "cell_type": "code",
   "id": "624853a31d8474ce",
   "metadata": {
    "ExecuteTime": {
     "end_time": "2025-07-16T13:09:02.941849Z",
     "start_time": "2025-07-16T13:09:02.938069Z"
    }
   },
   "source": [
    "X_test.shape, y_test.shape, num_classes"
   ],
   "outputs": [
    {
     "data": {
      "text/plain": [
       "((991, 384), (991,), 5)"
      ]
     },
     "execution_count": 22,
     "metadata": {},
     "output_type": "execute_result"
    }
   ],
   "execution_count": 22
  },
  {
   "metadata": {},
   "cell_type": "markdown",
   "source": "### Confusion Matrix and Classification Report",
   "id": "628e2493130db185"
  },
  {
   "cell_type": "code",
   "id": "845be915529dee30",
   "metadata": {
    "ExecuteTime": {
     "end_time": "2025-07-16T13:09:05.421035Z",
     "start_time": "2025-07-16T13:09:05.319257Z"
    }
   },
   "source": [
    "from sklearn.metrics import confusion_matrix, classification_report\n",
    "import numpy as np\n",
    "import matplotlib.pyplot as plt\n",
    "import seaborn as sns\n",
    "\n",
    "# 1) Predict on your \"test-as-validation\" set\n",
    "y_prob = model.predict(X_test)          # for softmax multi‑class\n",
    "y_pred = np.argmax(y_prob, axis=1)\n",
    "\n",
    "# 2) Compute confusion matrix\n",
    "cm = confusion_matrix(y_test, y_pred)\n",
    "print(cm)\n",
    "\n",
    "# 3) (Optional) Print out precision/recall/f1\n",
    "print(classification_report(y_test, y_pred))"
   ],
   "outputs": [
    {
     "name": "stdout",
     "output_type": "stream",
     "text": [
      "\u001B[1m31/31\u001B[0m \u001B[32m━━━━━━━━━━━━━━━━━━━━\u001B[0m\u001B[37m\u001B[0m \u001B[1m0s\u001B[0m 1ms/step \n",
      "[[185   5   3   3   4]\n",
      " [  2 223   1   4   6]\n",
      " [  2   0 139   0   2]\n",
      " [  7   8   4 167  14]\n",
      " [  0   1   0   1 210]]\n",
      "              precision    recall  f1-score   support\n",
      "\n",
      "           0       0.94      0.93      0.93       200\n",
      "           1       0.94      0.94      0.94       236\n",
      "           2       0.95      0.97      0.96       143\n",
      "           3       0.95      0.83      0.89       200\n",
      "           4       0.89      0.99      0.94       212\n",
      "\n",
      "    accuracy                           0.93       991\n",
      "   macro avg       0.93      0.93      0.93       991\n",
      "weighted avg       0.93      0.93      0.93       991\n",
      "\n"
     ]
    }
   ],
   "execution_count": 23
  },
  {
   "metadata": {},
   "cell_type": "markdown",
   "source": "#### Save the Model",
   "id": "4d3b0ca99a3e5c74"
  },
  {
   "cell_type": "code",
   "id": "40374535a83e7c4",
   "metadata": {
    "ExecuteTime": {
     "end_time": "2025-07-16T13:09:32.258632Z",
     "start_time": "2025-07-16T13:09:32.232909Z"
    }
   },
   "source": "model.save('model_v2.keras')",
   "outputs": [],
   "execution_count": 24
  },
  {
   "metadata": {},
   "cell_type": "code",
   "outputs": [],
   "execution_count": null,
   "source": "",
   "id": "c8d4aa5591cd622f"
  }
 ],
 "metadata": {
  "kernelspec": {
   "display_name": "Python (email-classifier-env)",
   "language": "python",
   "name": "email-classifier-env"
  },
  "language_info": {
   "codemirror_mode": {
    "name": "ipython",
    "version": 3
   },
   "file_extension": ".py",
   "mimetype": "text/x-python",
   "name": "python",
   "nbconvert_exporter": "python",
   "pygments_lexer": "ipython3",
   "version": "3.11.7"
  }
 },
 "nbformat": 4,
 "nbformat_minor": 5
}
