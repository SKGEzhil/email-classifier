{
 "cells": [
  {
   "cell_type": "code",
   "id": "initial_id",
   "metadata": {
    "collapsed": true,
    "ExecuteTime": {
     "end_time": "2025-07-15T16:46:07.987825Z",
     "start_time": "2025-07-15T16:46:07.985585Z"
    }
   },
   "source": "import pandas as pd",
   "outputs": [],
   "execution_count": 1
  },
  {
   "metadata": {
    "ExecuteTime": {
     "end_time": "2025-07-15T16:46:39.950571Z",
     "start_time": "2025-07-15T16:46:39.289952Z"
    }
   },
   "cell_type": "code",
   "source": [
    "df = pd.read_csv('../data/raw/gmail_emails.csv')\n",
    "df.head()"
   ],
   "id": "9b3e3966626cf466",
   "outputs": [
    {
     "data": {
      "text/plain": [
       "                                              sender  \\\n",
       "0               Gmail Team <mail-noreply@google.com>   \n",
       "1               Gmail Team <mail-noreply@google.com>   \n",
       "2                  SKGEzhil <skgezhil2005@gmail.com>   \n",
       "3  International Collaboration IR <ic.ir@iith.ac.in>   \n",
       "4  Green Office IIT Hyderabad <office.green@iith....   \n",
       "\n",
       "                                           receivers  \\\n",
       "0  Karthik Gnana Ezhil S <ep23btech11016@iith.ac.in>   \n",
       "1  Karthik Gnana Ezhil S <ep23btech11016@iith.ac.in>   \n",
       "2  \"ep23btech11016@iith.ac.in\" <ep23btech11016@ii...   \n",
       "3                                students@iith.ac.in   \n",
       "4  Students <students@iith.ac.in>, \"Faculty, IIT ...   \n",
       "\n",
       "                                             message  \n",
       "0  Get the official Gmail app\\n\\nGet the official...  \n",
       "1  Tips for using your new inbox\\n\\nTips for usin...  \n",
       "2                                           \\n\\n\\r\\n  \n",
       "3  Call for applications for the Swiss Government...  \n",
       "4  Plantation drive on 05-08-2023\\n\\nDear All,\\r\\...  "
      ],
      "text/html": [
       "<div>\n",
       "<style scoped>\n",
       "    .dataframe tbody tr th:only-of-type {\n",
       "        vertical-align: middle;\n",
       "    }\n",
       "\n",
       "    .dataframe tbody tr th {\n",
       "        vertical-align: top;\n",
       "    }\n",
       "\n",
       "    .dataframe thead th {\n",
       "        text-align: right;\n",
       "    }\n",
       "</style>\n",
       "<table border=\"1\" class=\"dataframe\">\n",
       "  <thead>\n",
       "    <tr style=\"text-align: right;\">\n",
       "      <th></th>\n",
       "      <th>sender</th>\n",
       "      <th>receivers</th>\n",
       "      <th>message</th>\n",
       "    </tr>\n",
       "  </thead>\n",
       "  <tbody>\n",
       "    <tr>\n",
       "      <th>0</th>\n",
       "      <td>Gmail Team &lt;mail-noreply@google.com&gt;</td>\n",
       "      <td>Karthik Gnana Ezhil S &lt;ep23btech11016@iith.ac.in&gt;</td>\n",
       "      <td>Get the official Gmail app\\n\\nGet the official...</td>\n",
       "    </tr>\n",
       "    <tr>\n",
       "      <th>1</th>\n",
       "      <td>Gmail Team &lt;mail-noreply@google.com&gt;</td>\n",
       "      <td>Karthik Gnana Ezhil S &lt;ep23btech11016@iith.ac.in&gt;</td>\n",
       "      <td>Tips for using your new inbox\\n\\nTips for usin...</td>\n",
       "    </tr>\n",
       "    <tr>\n",
       "      <th>2</th>\n",
       "      <td>SKGEzhil &lt;skgezhil2005@gmail.com&gt;</td>\n",
       "      <td>\"ep23btech11016@iith.ac.in\" &lt;ep23btech11016@ii...</td>\n",
       "      <td>\\n\\n\\r\\n</td>\n",
       "    </tr>\n",
       "    <tr>\n",
       "      <th>3</th>\n",
       "      <td>International Collaboration IR &lt;ic.ir@iith.ac.in&gt;</td>\n",
       "      <td>students@iith.ac.in</td>\n",
       "      <td>Call for applications for the Swiss Government...</td>\n",
       "    </tr>\n",
       "    <tr>\n",
       "      <th>4</th>\n",
       "      <td>Green Office IIT Hyderabad &lt;office.green@iith....</td>\n",
       "      <td>Students &lt;students@iith.ac.in&gt;, \"Faculty, IIT ...</td>\n",
       "      <td>Plantation drive on 05-08-2023\\n\\nDear All,\\r\\...</td>\n",
       "    </tr>\n",
       "  </tbody>\n",
       "</table>\n",
       "</div>"
      ]
     },
     "execution_count": 3,
     "metadata": {},
     "output_type": "execute_result"
    }
   ],
   "execution_count": 3
  },
  {
   "metadata": {
    "ExecuteTime": {
     "end_time": "2025-07-15T16:47:00.227759Z",
     "start_time": "2025-07-15T16:47:00.223767Z"
    }
   },
   "cell_type": "code",
   "source": "df['message'][0]",
   "id": "aea3d02a98e31713",
   "outputs": [
    {
     "data": {
      "text/plain": [
       "'Get the official Gmail app\\n\\nGet the official Gmail app\\r\\n[image: Gmail]\\r\\n\\r\\nGet the official Gmail app\\r\\nThe best features of IIT Hyderabad Mail are only available on your phone\\r\\nand tablet with the official Gmail app. Download the app or go to gmail.com\\r\\non your computer or mobile device to get started.\\r\\n\\r\\n[image: Get it on Google Play]\\r\\n<https://play.google.com/store/apps/details?id=com.google.android.gm&hl=en>\\r\\n[image:\\r\\nApple App Store]\\r\\n<https://apps.apple.com/app/gmail-email-by-google/id422689480?l=en>\\r\\n\\r\\nHappy emailing,\\r\\nThe Gmail Team\\r\\n[image: Google Cloud]\\r\\n\\r\\n© 2023 Google LLC 1600 Amphitheatre Parkway, Mountain View, CA 94043\\r\\n\\r\\n*You’re receiving this mandatory email service announcement to update you\\r\\nabout important changes to your Google Cloud product or account.*\\r\\n'"
      ]
     },
     "execution_count": 4,
     "metadata": {},
     "output_type": "execute_result"
    }
   ],
   "execution_count": 4
  },
  {
   "metadata": {},
   "cell_type": "code",
   "outputs": [],
   "execution_count": null,
   "source": "",
   "id": "81c38e02a95ea745"
  },
  {
   "metadata": {
    "ExecuteTime": {
     "end_time": "2025-07-15T08:47:26.256306Z",
     "start_time": "2025-07-15T08:35:04.837008Z"
    }
   },
   "cell_type": "code",
   "source": [
    "from sentence_transformers import SentenceTransformer, util\n",
    "\n",
    "# 2) Load SBERT and encode all emails\n",
    "model = SentenceTransformer('all-MiniLM-L6-v2')\n",
    "embeddings = model.encode(df['message'].tolist(), convert_to_tensor=True)\n"
   ],
   "id": "e91e578f68700c98",
   "outputs": [
    {
     "name": "stderr",
     "output_type": "stream",
     "text": [
      "/opt/anaconda3/envs/email-classifier-env/lib/python3.11/site-packages/tqdm/auto.py:21: TqdmWarning: IProgress not found. Please update jupyter and ipywidgets. See https://ipywidgets.readthedocs.io/en/stable/user_install.html\n",
      "  from .autonotebook import tqdm as notebook_tqdm\n"
     ]
    }
   ],
   "execution_count": 3
  },
  {
   "metadata": {
    "ExecuteTime": {
     "end_time": "2025-07-15T09:52:12.844478Z",
     "start_time": "2025-07-15T09:52:12.782987Z"
    }
   },
   "cell_type": "code",
   "source": [
    "import torch\n",
    "\n",
    "# `embeddings` is your tensor of shape [14000, D]\n",
    "torch.save(embeddings, '../data/processed/email_embeddings.pt')\n"
   ],
   "id": "b8e038dec970cb8c",
   "outputs": [],
   "execution_count": 42
  },
  {
   "metadata": {
    "ExecuteTime": {
     "end_time": "2025-07-15T13:18:56.414691Z",
     "start_time": "2025-07-15T13:18:56.228875Z"
    }
   },
   "cell_type": "code",
   "source": "df['emb'] = embeddings.tolist()  # convert tensor to list for DataFrame",
   "id": "23924de1de380a2f",
   "outputs": [],
   "execution_count": 93
  },
  {
   "metadata": {
    "ExecuteTime": {
     "end_time": "2025-07-15T13:19:00.348082Z",
     "start_time": "2025-07-15T13:19:00.179272Z"
    }
   },
   "cell_type": "code",
   "source": [
    "import numpy as np\n",
    "\n",
    "raw_prototypes = {\n",
    "    'meeting':     [\"Team sync-up meeting\", \"Project planning meeting\"],\n",
    "    'announcement':[\"Official announcement\", \"Please note the announcement\"],\n",
    "    'internship':  [\"Summer internship opportunity\", \"Apply for internship\", \"Internship application deadline\", \"Internship program details\", \"Registration deadline for the internship\", \"Exchange program opportunity\", \"exchange program\"],\n",
    "    'club':        [\"Student club event\", \"Join our club\", \"Club orientations\", \"Sunshine meeting invites\", \"shuffle conducting events\", \"Vibes conducting events\", \"milan events\", \"Elan and nvision\", \"Diesta events\", \"Behind the lens events\"],\n",
    "    'talks':       [\"Guest speaker talk\", \"Research seminar talks\", \"Invitation for seminar\", \"viva voice\", \"Upcoming talks\", \"Research talks\", \"Sessions on academics\", \"Upcoming events\", \"Event registration\", \"Invitation to event\"],\n",
    "    'maintenance':  [\"scheduled maintenance\", \"Maintenance window\", \"Internet connection down\", \"Shutdown notice\"],\n",
    "    'academics':   [\"Academic calendar\", \"Course registration\", \"Exam schedule\", \"Assignment deadlines\", \"Assignment submission\"],\n",
    "}\n",
    "prototypes = {\n",
    "    label: np.mean(\n",
    "        model.encode(texts, convert_to_tensor=False),  # now returns a list of lists\n",
    "        axis=0\n",
    "    )\n",
    "    for label, texts in raw_prototypes.items()\n",
    "}\n",
    "\n"
   ],
   "id": "9c586089edc36a15",
   "outputs": [],
   "execution_count": 94
  },
  {
   "metadata": {
    "ExecuteTime": {
     "end_time": "2025-07-15T13:19:01.526981Z",
     "start_time": "2025-07-15T13:19:01.246268Z"
    }
   },
   "cell_type": "code",
   "source": [
    "# 4) Compute cosine‐similarities of each email to each prototype\n",
    "sims = {\n",
    "    label: util.cos_sim(proto, embeddings)[0]\n",
    "    for label, proto in prototypes.items()\n",
    "}\n",
    "\n",
    "threshold = 0.4\n",
    "def pick_label(i):\n",
    "    # build a dict of {label: score}\n",
    "    scores = {lbl: sims[lbl][i].item() for lbl in sims}\n",
    "    best_label, best_score = max(scores.items(), key=lambda kv: kv[1])\n",
    "    return best_label if best_score > threshold else 'other'\n",
    "\n",
    "df['label'] = [pick_label(i) for i in range(len(df))]\n",
    "\n",
    "# print(df)\n",
    "df"
   ],
   "id": "8c40cce5ad7119a8",
   "outputs": [
    {
     "data": {
      "text/plain": [
       "                                                  sender  \\\n",
       "0                   Gmail Team <mail-noreply@google.com>   \n",
       "1                   Gmail Team <mail-noreply@google.com>   \n",
       "2                      SKGEzhil <skgezhil2005@gmail.com>   \n",
       "3      International Collaboration IR <ic.ir@iith.ac.in>   \n",
       "4      Green Office IIT Hyderabad <office.green@iith....   \n",
       "...                                                  ...   \n",
       "18946          Shiv Govind Singh <sgsingh@ee.iith.ac.in>   \n",
       "18947             Japandesk IR <japandesk.ir@iith.ac.in>   \n",
       "18948          TechGig Webinar <expertspeak@techgig.com>   \n",
       "18949  \"'Cultural Secretary' via Students, IIT Hydera...   \n",
       "18950              Google <no-reply@accounts.google.com>   \n",
       "\n",
       "                                               receivers  \\\n",
       "0      Karthik Gnana Ezhil S <ep23btech11016@iith.ac.in>   \n",
       "1      Karthik Gnana Ezhil S <ep23btech11016@iith.ac.in>   \n",
       "2      \"ep23btech11016@iith.ac.in\" <ep23btech11016@ii...   \n",
       "3                                    students@iith.ac.in   \n",
       "4      Students <students@iith.ac.in>, \"Faculty, IIT ...   \n",
       "...                                                  ...   \n",
       "18946  \"EE, Seminar\" <seminar@ee.iith.ac.in>, \"Ph.D. ...   \n",
       "18947                     Students <students@iith.ac.in>   \n",
       "18948                          ep23btech11016@iith.ac.in   \n",
       "18949                     Students <students@iith.ac.in>   \n",
       "18950                          ep23btech11016@iith.ac.in   \n",
       "\n",
       "                                                 message      label  \\\n",
       "0      Get the official Gmail app\\n\\nGet the official...      other   \n",
       "1      Tips for using your new inbox\\n\\nTips for usin...      other   \n",
       "2                                               \\n\\n\\r\\n      other   \n",
       "3      Call for applications for the Swiss Government...      other   \n",
       "4      Plantation drive on 05-08-2023\\n\\nDear All,\\r\\...      other   \n",
       "...                                                  ...        ...   \n",
       "18946  PhD Vivo-Voce (online) of Ghosh Tanmoya , 2.30...      other   \n",
       "18947  Re: BTech only : The University of Tokyo Sakur...  academics   \n",
       "18948  How UiPath Autopilot is Redefining Developer P...      other   \n",
       "18949  Re: Join the Shuffle Club’s Online Dance Reel ...       club   \n",
       "18950  Security alert\\n\\n[image: Google]\\r\\nApp passw...      other   \n",
       "\n",
       "                                                     emb  \n",
       "0      [-0.09933263063430786, 0.001328121405094862, 0...  \n",
       "1      [-0.050356633961200714, 0.06010790541768074, -...  \n",
       "2      [-0.11883833259344101, 0.0482986718416214, -0....  \n",
       "3      [-0.09319693595170975, 0.01009377185255289, -0...  \n",
       "4      [-0.04429999738931656, -0.015538915991783142, ...  \n",
       "...                                                  ...  \n",
       "18946  [-0.10579375177621841, -0.015991903841495514, ...  \n",
       "18947  [-0.11099039763212204, -0.015269726514816284, ...  \n",
       "18948  [-0.018514640629291534, -0.06346655637025833, ...  \n",
       "18949  [-0.10851454734802246, -0.05394021049141884, 0...  \n",
       "18950  [-0.10358165204524994, -0.029010018333792686, ...  \n",
       "\n",
       "[18951 rows x 5 columns]"
      ],
      "text/html": [
       "<div>\n",
       "<style scoped>\n",
       "    .dataframe tbody tr th:only-of-type {\n",
       "        vertical-align: middle;\n",
       "    }\n",
       "\n",
       "    .dataframe tbody tr th {\n",
       "        vertical-align: top;\n",
       "    }\n",
       "\n",
       "    .dataframe thead th {\n",
       "        text-align: right;\n",
       "    }\n",
       "</style>\n",
       "<table border=\"1\" class=\"dataframe\">\n",
       "  <thead>\n",
       "    <tr style=\"text-align: right;\">\n",
       "      <th></th>\n",
       "      <th>sender</th>\n",
       "      <th>receivers</th>\n",
       "      <th>message</th>\n",
       "      <th>label</th>\n",
       "      <th>emb</th>\n",
       "    </tr>\n",
       "  </thead>\n",
       "  <tbody>\n",
       "    <tr>\n",
       "      <th>0</th>\n",
       "      <td>Gmail Team &lt;mail-noreply@google.com&gt;</td>\n",
       "      <td>Karthik Gnana Ezhil S &lt;ep23btech11016@iith.ac.in&gt;</td>\n",
       "      <td>Get the official Gmail app\\n\\nGet the official...</td>\n",
       "      <td>other</td>\n",
       "      <td>[-0.09933263063430786, 0.001328121405094862, 0...</td>\n",
       "    </tr>\n",
       "    <tr>\n",
       "      <th>1</th>\n",
       "      <td>Gmail Team &lt;mail-noreply@google.com&gt;</td>\n",
       "      <td>Karthik Gnana Ezhil S &lt;ep23btech11016@iith.ac.in&gt;</td>\n",
       "      <td>Tips for using your new inbox\\n\\nTips for usin...</td>\n",
       "      <td>other</td>\n",
       "      <td>[-0.050356633961200714, 0.06010790541768074, -...</td>\n",
       "    </tr>\n",
       "    <tr>\n",
       "      <th>2</th>\n",
       "      <td>SKGEzhil &lt;skgezhil2005@gmail.com&gt;</td>\n",
       "      <td>\"ep23btech11016@iith.ac.in\" &lt;ep23btech11016@ii...</td>\n",
       "      <td>\\n\\n\\r\\n</td>\n",
       "      <td>other</td>\n",
       "      <td>[-0.11883833259344101, 0.0482986718416214, -0....</td>\n",
       "    </tr>\n",
       "    <tr>\n",
       "      <th>3</th>\n",
       "      <td>International Collaboration IR &lt;ic.ir@iith.ac.in&gt;</td>\n",
       "      <td>students@iith.ac.in</td>\n",
       "      <td>Call for applications for the Swiss Government...</td>\n",
       "      <td>other</td>\n",
       "      <td>[-0.09319693595170975, 0.01009377185255289, -0...</td>\n",
       "    </tr>\n",
       "    <tr>\n",
       "      <th>4</th>\n",
       "      <td>Green Office IIT Hyderabad &lt;office.green@iith....</td>\n",
       "      <td>Students &lt;students@iith.ac.in&gt;, \"Faculty, IIT ...</td>\n",
       "      <td>Plantation drive on 05-08-2023\\n\\nDear All,\\r\\...</td>\n",
       "      <td>other</td>\n",
       "      <td>[-0.04429999738931656, -0.015538915991783142, ...</td>\n",
       "    </tr>\n",
       "    <tr>\n",
       "      <th>...</th>\n",
       "      <td>...</td>\n",
       "      <td>...</td>\n",
       "      <td>...</td>\n",
       "      <td>...</td>\n",
       "      <td>...</td>\n",
       "    </tr>\n",
       "    <tr>\n",
       "      <th>18946</th>\n",
       "      <td>Shiv Govind Singh &lt;sgsingh@ee.iith.ac.in&gt;</td>\n",
       "      <td>\"EE, Seminar\" &lt;seminar@ee.iith.ac.in&gt;, \"Ph.D. ...</td>\n",
       "      <td>PhD Vivo-Voce (online) of Ghosh Tanmoya , 2.30...</td>\n",
       "      <td>other</td>\n",
       "      <td>[-0.10579375177621841, -0.015991903841495514, ...</td>\n",
       "    </tr>\n",
       "    <tr>\n",
       "      <th>18947</th>\n",
       "      <td>Japandesk IR &lt;japandesk.ir@iith.ac.in&gt;</td>\n",
       "      <td>Students &lt;students@iith.ac.in&gt;</td>\n",
       "      <td>Re: BTech only : The University of Tokyo Sakur...</td>\n",
       "      <td>academics</td>\n",
       "      <td>[-0.11099039763212204, -0.015269726514816284, ...</td>\n",
       "    </tr>\n",
       "    <tr>\n",
       "      <th>18948</th>\n",
       "      <td>TechGig Webinar &lt;expertspeak@techgig.com&gt;</td>\n",
       "      <td>ep23btech11016@iith.ac.in</td>\n",
       "      <td>How UiPath Autopilot is Redefining Developer P...</td>\n",
       "      <td>other</td>\n",
       "      <td>[-0.018514640629291534, -0.06346655637025833, ...</td>\n",
       "    </tr>\n",
       "    <tr>\n",
       "      <th>18949</th>\n",
       "      <td>\"'Cultural Secretary' via Students, IIT Hydera...</td>\n",
       "      <td>Students &lt;students@iith.ac.in&gt;</td>\n",
       "      <td>Re: Join the Shuffle Club’s Online Dance Reel ...</td>\n",
       "      <td>club</td>\n",
       "      <td>[-0.10851454734802246, -0.05394021049141884, 0...</td>\n",
       "    </tr>\n",
       "    <tr>\n",
       "      <th>18950</th>\n",
       "      <td>Google &lt;no-reply@accounts.google.com&gt;</td>\n",
       "      <td>ep23btech11016@iith.ac.in</td>\n",
       "      <td>Security alert\\n\\n[image: Google]\\r\\nApp passw...</td>\n",
       "      <td>other</td>\n",
       "      <td>[-0.10358165204524994, -0.029010018333792686, ...</td>\n",
       "    </tr>\n",
       "  </tbody>\n",
       "</table>\n",
       "<p>18951 rows × 5 columns</p>\n",
       "</div>"
      ]
     },
     "execution_count": 95,
     "metadata": {},
     "output_type": "execute_result"
    }
   ],
   "execution_count": 95
  }
 ],
 "metadata": {
  "kernelspec": {
   "display_name": "Python (email-classifier-env)",
   "language": "python",
   "name": "email-classifier-env"
  },
  "language_info": {
   "codemirror_mode": {
    "name": "ipython",
    "version": 2
   },
   "file_extension": ".py",
   "mimetype": "text/x-python",
   "name": "python",
   "nbconvert_exporter": "python",
   "pygments_lexer": "ipython2",
   "version": "2.7.6"
  }
 },
 "nbformat": 4,
 "nbformat_minor": 5
}
