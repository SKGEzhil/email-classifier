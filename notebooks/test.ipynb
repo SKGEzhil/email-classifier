{
 "cells": [
  {
   "metadata": {
    "ExecuteTime": {
     "end_time": "2025-07-16T02:52:21.511103Z",
     "start_time": "2025-07-16T02:52:17.801523Z"
    }
   },
   "cell_type": "code",
   "source": [
    "from tensorflow.keras.models import load_model\n",
    "\n",
    "model = load_model('../models/model4.keras')"
   ],
   "id": "7272e77cdaad1df0",
   "outputs": [],
   "execution_count": 2
  },
  {
   "metadata": {
    "ExecuteTime": {
     "end_time": "2025-07-16T02:53:28.568240Z",
     "start_time": "2025-07-16T02:53:28.564593Z"
    }
   },
   "cell_type": "code",
   "source": [
    "text = '''\n",
    "    OFFICE OF CAREER SERVICES(OCS) is collaborating with CANTILEVER LABS, to prepare students for upcoming internship placements\n",
    "\n",
    "Cantilever Labs is based out of T-Hub, Hyderabad. We work in the Recruitment and Skilling space and have positively impacted 1,65,500+ students from 160+ colleges with some of our noteworthy partnerships being with colleges like IIT Bombay, IIT Madras, IIT Kharagpur, IIT Hyderabad, IIT Dhanbad, BITS Pilani, BITS Hyd, NITs, Symbiosis(SIBM), JNTU Hyderabad and many more.\n",
    "\n",
    "'''"
   ],
   "id": "47e07aa7cacce1c7",
   "outputs": [],
   "execution_count": 3
  },
  {
   "metadata": {
    "ExecuteTime": {
     "end_time": "2025-07-16T02:53:45.846872Z",
     "start_time": "2025-07-16T02:53:34.936701Z"
    }
   },
   "cell_type": "code",
   "source": [
    "from sentence_transformers import SentenceTransformer, util\n",
    "\n",
    "sentence_model = SentenceTransformer('all-MiniLM-L6-v2')\n",
    "emb_np = sentence_model.encode(text)\n",
    "emb_np = emb_np.reshape(1, -1)\n"
   ],
   "id": "971c2cc8249f2b23",
   "outputs": [
    {
     "name": "stderr",
     "output_type": "stream",
     "text": [
      "/opt/anaconda3/lib/python3.11/site-packages/sentence_transformers/cross_encoder/CrossEncoder.py:13: TqdmExperimentalWarning: Using `tqdm.autonotebook.tqdm` in notebook mode. Use `tqdm.tqdm` instead to force console mode (e.g. in jupyter console)\n",
      "  from tqdm.autonotebook import tqdm, trange\n"
     ]
    }
   ],
   "execution_count": 4
  },
  {
   "metadata": {
    "ExecuteTime": {
     "end_time": "2025-07-16T02:53:59.413654Z",
     "start_time": "2025-07-16T02:53:59.304381Z"
    }
   },
   "cell_type": "code",
   "source": "model.predict(emb_np)",
   "id": "502a255179bfa774",
   "outputs": [
    {
     "name": "stdout",
     "output_type": "stream",
     "text": [
      "\u001B[1m1/1\u001B[0m \u001B[32m━━━━━━━━━━━━━━━━━━━━\u001B[0m\u001B[37m\u001B[0m \u001B[1m0s\u001B[0m 42ms/step\n"
     ]
    },
    {
     "data": {
      "text/plain": [
       "array([[1.6249517e-02, 1.4995903e-04, 9.6781141e-01, 1.4671089e-02,\n",
       "        1.1180463e-03]], dtype=float32)"
      ]
     },
     "execution_count": 5,
     "metadata": {},
     "output_type": "execute_result"
    }
   ],
   "execution_count": 5
  },
  {
   "metadata": {},
   "cell_type": "code",
   "outputs": [],
   "execution_count": null,
   "source": "",
   "id": "818dab1dc591fb10"
  }
 ],
 "metadata": {
  "kernelspec": {
   "display_name": "Python (email-classifier-env)",
   "language": "python",
   "name": "email-classifier-env"
  },
  "language_info": {
   "codemirror_mode": {
    "name": "ipython",
    "version": 2
   },
   "file_extension": ".py",
   "mimetype": "text/x-python",
   "name": "python",
   "nbconvert_exporter": "python",
   "pygments_lexer": "ipython2",
   "version": "2.7.6"
  }
 },
 "nbformat": 4,
 "nbformat_minor": 5
}
