{
 "cells": [
  {
   "metadata": {
    "ExecuteTime": {
     "end_time": "2025-07-16T13:19:11.541678Z",
     "start_time": "2025-07-16T13:19:07.702625Z"
    }
   },
   "cell_type": "code",
   "source": [
    "from tensorflow.keras.models import load_model\n",
    "\n",
    "model = load_model('../models/model_v2.keras')"
   ],
   "id": "7272e77cdaad1df0",
   "outputs": [],
   "execution_count": 2
  },
  {
   "metadata": {
    "ExecuteTime": {
     "end_time": "2025-07-16T13:22:21.431795Z",
     "start_time": "2025-07-16T13:22:21.428533Z"
    }
   },
   "cell_type": "code",
   "source": [
    "text = '''\n",
    "    Re: Call for Coordinators | EBSB 2025-26 Namaste, This is a quick reminder that applications for the Coordinator Team of Ek Bharat Shreshtha Bharat (EBSB) for the academic year 2025–26 closes tonight at 11:59 PM! If you’ve been thinking about applying — now’s the time!\n",
    "\n",
    "'''"
   ],
   "id": "47e07aa7cacce1c7",
   "outputs": [],
   "execution_count": 6
  },
  {
   "metadata": {
    "ExecuteTime": {
     "end_time": "2025-07-16T13:22:25.904319Z",
     "start_time": "2025-07-16T13:22:22.389573Z"
    }
   },
   "cell_type": "code",
   "source": [
    "from sentence_transformers import SentenceTransformer, util\n",
    "\n",
    "sentence_model = SentenceTransformer('all-MiniLM-L6-v2')\n",
    "emb_np = sentence_model.encode(text)\n",
    "emb_np = emb_np.reshape(1, -1)\n"
   ],
   "id": "971c2cc8249f2b23",
   "outputs": [],
   "execution_count": 7
  },
  {
   "metadata": {
    "ExecuteTime": {
     "end_time": "2025-07-16T13:22:27.029919Z",
     "start_time": "2025-07-16T13:22:26.988450Z"
    }
   },
   "cell_type": "code",
   "source": "model.predict(emb_np)",
   "id": "502a255179bfa774",
   "outputs": [
    {
     "name": "stdout",
     "output_type": "stream",
     "text": [
      "\u001B[1m1/1\u001B[0m \u001B[32m━━━━━━━━━━━━━━━━━━━━\u001B[0m\u001B[37m\u001B[0m \u001B[1m0s\u001B[0m 15ms/step\n"
     ]
    },
    {
     "data": {
      "text/plain": [
       "array([[0.43824476, 0.42829487, 0.04285745, 0.08797731, 0.00262552]],\n",
       "      dtype=float32)"
      ]
     },
     "execution_count": 8,
     "metadata": {},
     "output_type": "execute_result"
    }
   ],
   "execution_count": 8
  },
  {
   "metadata": {},
   "cell_type": "code",
   "outputs": [],
   "execution_count": null,
   "source": "",
   "id": "818dab1dc591fb10"
  }
 ],
 "metadata": {
  "kernelspec": {
   "display_name": "Python (email-classifier-env)",
   "language": "python",
   "name": "email-classifier-env"
  },
  "language_info": {
   "codemirror_mode": {
    "name": "ipython",
    "version": 2
   },
   "file_extension": ".py",
   "mimetype": "text/x-python",
   "name": "python",
   "nbconvert_exporter": "python",
   "pygments_lexer": "ipython2",
   "version": "2.7.6"
  }
 },
 "nbformat": 4,
 "nbformat_minor": 5
}
